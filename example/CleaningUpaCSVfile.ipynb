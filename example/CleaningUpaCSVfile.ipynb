{
 "cells": [
  {
   "cell_type": "code",
   "execution_count": 1,
   "metadata": {
    "collapsed": true
   },
   "outputs": [],
   "source": [
    "import pandas\n",
    "import numpy as np\n",
    "filename = 'people.txt'"
   ]
  },
  {
   "cell_type": "code",
   "execution_count": 2,
   "metadata": {
    "collapsed": false
   },
   "outputs": [],
   "source": [
    "peopledf = pandas.read_csv(filename)\n",
    "peopledf2 = pandas.read_csv(filename)\n",
    "peopledf3 = pandas.read_csv(filename)"
   ]
  },
  {
   "cell_type": "code",
   "execution_count": 3,
   "metadata": {
    "collapsed": false
   },
   "outputs": [
    {
     "name": "stdout",
     "output_type": "stream",
     "text": [
      "Mr. and Mrs. Amal Aditya\n",
      "Mr. and Mrs. John Martone\n",
      "Mr. and Mrs. Philip Veli\n",
      "Mr. and Mrs. Mark Gruber\n",
      "Mr. and Mrs. John Giudice\n",
      "Mr. and Mrs. John Giudice \n",
      "Mr. and Mrs. Salvatore Veli\n",
      "Mr. and Mrs. Joseph Tardibuono\n",
      "Mr. and Mrs. Ronald Teicher\n",
      "Mr. and Mrs. Thomas Cannizzo\n",
      "Mr. and Mrs. Paul Mastromarino\n",
      "Mr. and Mrs. Bartolo Iozzia\n",
      "Mr. and Mrs. Emanuele Brugaletta\n",
      "Mr. and Mrs. Joseph Marinelli\n"
     ]
    }
   ],
   "source": [
    "#Split couples\n",
    "for rownum in peopledf.index:\n",
    "    guestname = peopledf.iloc[rownum]['Guest Name']\n",
    "    if \"Mr. and Mrs.\" in guestname:\n",
    "        print guestname\n",
    "        splits = guestname.split(' ')\n",
    "        peopledf2.iloc[rownum]['Guest Name'] = splits[0]+\" \"+\" \".join(splits[3:])\n",
    "        peopledf2.iloc[rownum]['friend1'] = splits[2]+\" \"+\" \".join(splits[3:])"
   ]
  },
  {
   "cell_type": "code",
   "execution_count": 4,
   "metadata": {
    "collapsed": false
   },
   "outputs": [
    {
     "name": "stdout",
     "output_type": "stream",
     "text": [
      "Mr. Marc Veli and Guest\n",
      "Mr. Marc Veli\n",
      "Mr. David Giudice and Guest\n",
      "Mr. David Giudice\n",
      "Ms. Danielle Veli and Guest\n",
      "Ms. Danielle Veli\n",
      "Mr. John Brugaletta and Guest\n",
      "Mr. John Brugaletta\n",
      "Ms. Josephine Rovetto and Guest\n",
      "Ms. Josephine Rovetto\n",
      "Rick and guest\n",
      "Rick\n",
      "james peterson and guest\n",
      "james peterson\n",
      "steve royce and guest\n",
      "steve royce\n"
     ]
    }
   ],
   "source": [
    "#Split people and their guest\n",
    "for rownum in peopledf.index:\n",
    "    guestname = peopledf.iloc[rownum]['Guest Name']\n",
    "    if \" and guest\" in guestname.lower():\n",
    "        print guestname\n",
    "        splits = guestname.split(' ')\n",
    "        print \" \".join(splits[:-2])\n",
    "        peopledf2.iloc[rownum]['Guest Name'] = \" \".join(splits[:-2])\n",
    "        peopledf2.iloc[rownum]['friend1'] = \" \".join(splits[:-2])+\"'s guest\""
   ]
  },
  {
   "cell_type": "code",
   "execution_count": 9,
   "metadata": {
    "collapsed": false
   },
   "outputs": [
    {
     "name": "stdout",
     "output_type": "stream",
     "text": [
      "Melissa Rovetto and David Ruffner\n",
      "DJ and Mcee\n",
      "Mary Margaret and Ben Molnar\n"
     ]
    }
   ],
   "source": [
    "#Split people\n",
    "for rownum in peopledf2.index:\n",
    "    guestname = peopledf2.iloc[rownum]['Guest Name']\n",
    "    if \" and \" in guestname.lower():\n",
    "        print guestname\n",
    "        splits = guestname.split(' and ')\n",
    "        peopledf2.iloc[rownum]['Guest Name'] = splits[0]\n",
    "        peopledf2.iloc[rownum]['friend1'] = splits[1]"
   ]
  },
  {
   "cell_type": "code",
   "execution_count": 10,
   "metadata": {
    "collapsed": false
   },
   "outputs": [],
   "source": [
    "#Clean out end lines\n",
    "for column in peopledf2[1:]:\n",
    "    for rownum in peopledf2.index:\n",
    "        name = peopledf2.iloc[rownum][column]\n",
    "        #print rownum, column, name\n",
    "        if name is np.nan:\n",
    "            continue\n",
    "        name = name.strip()\n",
    "        if \"\\n\" in name:\n",
    "            name = name.translate(None,'\\n')\n",
    "        peopledf3.iloc[rownum][column] = name\n",
    "#             peopledf2.iloc[rownum]['Guest Name'] = \" \".join(splits[:-2])\n",
    "#             peopledf2.iloc[rownum]['friend1'] = \" \".join(splits[:-2])+\"'s guest\""
   ]
  },
  {
   "cell_type": "code",
   "execution_count": 11,
   "metadata": {
    "collapsed": false
   },
   "outputs": [],
   "source": [
    "peopledf3.to_excel('people6.xlsx')"
   ]
  },
  {
   "cell_type": "code",
   "execution_count": null,
   "metadata": {
    "collapsed": true
   },
   "outputs": [],
   "source": []
  }
 ],
 "metadata": {
  "kernelspec": {
   "display_name": "Python 2",
   "language": "python",
   "name": "python2"
  },
  "language_info": {
   "codemirror_mode": {
    "name": "ipython",
    "version": 2
   },
   "file_extension": ".py",
   "mimetype": "text/x-python",
   "name": "python",
   "nbconvert_exporter": "python",
   "pygments_lexer": "ipython2",
   "version": "2.7.10"
  }
 },
 "nbformat": 4,
 "nbformat_minor": 0
}
